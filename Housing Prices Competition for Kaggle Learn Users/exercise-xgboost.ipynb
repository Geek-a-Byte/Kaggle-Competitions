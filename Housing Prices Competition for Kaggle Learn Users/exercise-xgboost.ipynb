{
 "cells": [
  {
   "cell_type": "markdown",
   "id": "d82fb439",
   "metadata": {
    "papermill": {
     "duration": 0.00804,
     "end_time": "2023-03-25T07:10:24.383172",
     "exception": false,
     "start_time": "2023-03-25T07:10:24.375132",
     "status": "completed"
    },
    "tags": []
   },
   "source": [
    "**This notebook is an exercise in the [Intermediate Machine Learning](https://www.kaggle.com/learn/intermediate-machine-learning) course.  You can reference the tutorial at [this link](https://www.kaggle.com/alexisbcook/xgboost).**\n",
    "\n",
    "---\n"
   ]
  },
  {
   "cell_type": "markdown",
   "id": "eefdda85",
   "metadata": {
    "papermill": {
     "duration": 0.00667,
     "end_time": "2023-03-25T07:10:24.396989",
     "exception": false,
     "start_time": "2023-03-25T07:10:24.390319",
     "status": "completed"
    },
    "tags": []
   },
   "source": [
    "In this exercise, you will use your new knowledge to train a model with **gradient boosting**.\n",
    "\n",
    "# Setup\n",
    "\n",
    "The questions below will give you feedback on your work. Run the following cell to set up the feedback system."
   ]
  },
  {
   "cell_type": "code",
   "execution_count": 1,
   "id": "0fa01608",
   "metadata": {
    "execution": {
     "iopub.execute_input": "2023-03-25T07:10:24.413420Z",
     "iopub.status.busy": "2023-03-25T07:10:24.412640Z",
     "iopub.status.idle": "2023-03-25T07:10:26.906531Z",
     "shell.execute_reply": "2023-03-25T07:10:26.905157Z"
    },
    "papermill": {
     "duration": 2.506586,
     "end_time": "2023-03-25T07:10:26.910461",
     "exception": false,
     "start_time": "2023-03-25T07:10:24.403875",
     "status": "completed"
    },
    "tags": []
   },
   "outputs": [
    {
     "name": "stdout",
     "output_type": "stream",
     "text": [
      "Setup Complete\n"
     ]
    }
   ],
   "source": [
    "# Set up code checking\n",
    "import os\n",
    "if not os.path.exists(\"../input/train.csv\"):\n",
    "    os.symlink(\"../input/home-data-for-ml-course/train.csv\", \"../input/train.csv\")  \n",
    "    os.symlink(\"../input/home-data-for-ml-course/test.csv\", \"../input/test.csv\") \n",
    "from learntools.core import binder\n",
    "binder.bind(globals())\n",
    "from learntools.ml_intermediate.ex6 import *\n",
    "print(\"Setup Complete\")"
   ]
  },
  {
   "cell_type": "markdown",
   "id": "942b46c3",
   "metadata": {
    "papermill": {
     "duration": 0.00679,
     "end_time": "2023-03-25T07:10:26.926059",
     "exception": false,
     "start_time": "2023-03-25T07:10:26.919269",
     "status": "completed"
    },
    "tags": []
   },
   "source": [
    "You will work with the [Housing Prices Competition for Kaggle Learn Users](https://www.kaggle.com/c/home-data-for-ml-course) dataset from the previous exercise. \n",
    "\n",
    "![Ames Housing dataset image](https://i.imgur.com/lTJVG4e.png)\n",
    "\n",
    "Run the next code cell without changes to load the training and validation sets in `X_train`, `X_valid`, `y_train`, and `y_valid`.  The test set is loaded in `X_test`."
   ]
  },
  {
   "cell_type": "code",
   "execution_count": 2,
   "id": "90c21f26",
   "metadata": {
    "execution": {
     "iopub.execute_input": "2023-03-25T07:10:26.942330Z",
     "iopub.status.busy": "2023-03-25T07:10:26.941913Z",
     "iopub.status.idle": "2023-03-25T07:10:27.129387Z",
     "shell.execute_reply": "2023-03-25T07:10:27.127993Z"
    },
    "papermill": {
     "duration": 0.199245,
     "end_time": "2023-03-25T07:10:27.132433",
     "exception": false,
     "start_time": "2023-03-25T07:10:26.933188",
     "status": "completed"
    },
    "tags": []
   },
   "outputs": [],
   "source": [
    "import pandas as pd\n",
    "from sklearn.model_selection import train_test_split\n",
    "\n",
    "# Read the data\n",
    "X = pd.read_csv('../input/train.csv', index_col='Id')\n",
    "X_test_full = pd.read_csv('../input/test.csv', index_col='Id')\n",
    "\n",
    "# Remove rows with missing target, separate target from predictors\n",
    "X.dropna(axis=0, subset=['SalePrice'], inplace=True)\n",
    "y = X.SalePrice              \n",
    "X.drop(['SalePrice'], axis=1, inplace=True)\n",
    "\n",
    "# Break off validation set from training data\n",
    "X_train_full, X_valid_full, y_train, y_valid = train_test_split(X, y, train_size=0.8, test_size=0.2,\n",
    "                                                                random_state=0)\n",
    "\n",
    "# \"Cardinality\" means the number of unique values in a column\n",
    "# Select categorical columns with relatively low cardinality (convenient but arbitrary)\n",
    "low_cardinality_cols = [cname for cname in X_train_full.columns if X_train_full[cname].nunique() < 10 and \n",
    "                        X_train_full[cname].dtype == \"object\"]\n",
    "\n",
    "# Select numeric columns\n",
    "numeric_cols = [cname for cname in X_train_full.columns if X_train_full[cname].dtype in ['int64', 'float64']]\n",
    "\n",
    "# Keep selected columns only\n",
    "my_cols = low_cardinality_cols + numeric_cols\n",
    "X_train = X_train_full[my_cols].copy()\n",
    "X_valid = X_valid_full[my_cols].copy()\n",
    "X_test = X_test_full[my_cols].copy()\n",
    "\n",
    "# One-hot encode the data (to shorten the code, we use pandas)\n",
    "X_train = pd.get_dummies(X_train)\n",
    "X_valid = pd.get_dummies(X_valid)\n",
    "X_test = pd.get_dummies(X_test)\n",
    "X_train, X_valid = X_train.align(X_valid, join='left', axis=1)\n",
    "X_train, X_test = X_train.align(X_test, join='left', axis=1)"
   ]
  },
  {
   "cell_type": "markdown",
   "id": "c2c1b109",
   "metadata": {
    "papermill": {
     "duration": 0.006968,
     "end_time": "2023-03-25T07:10:27.146679",
     "exception": false,
     "start_time": "2023-03-25T07:10:27.139711",
     "status": "completed"
    },
    "tags": []
   },
   "source": [
    "# Step 1: Build model\n",
    "\n",
    "### Part A\n",
    "\n",
    "In this step, you'll build and train your first model with gradient boosting.\n",
    "\n",
    "- Begin by setting `my_model_1` to an XGBoost model.  Use the [XGBRegressor](https://xgboost.readthedocs.io/en/latest/python/python_api.html#xgboost.XGBRegressor) class, and set the random seed to 0 (`random_state=0`).  **Leave all other parameters as default.**\n",
    "- Then, fit the model to the training data in `X_train` and `y_train`."
   ]
  },
  {
   "cell_type": "code",
   "execution_count": 3,
   "id": "2796918a",
   "metadata": {
    "execution": {
     "iopub.execute_input": "2023-03-25T07:10:27.163262Z",
     "iopub.status.busy": "2023-03-25T07:10:27.162802Z",
     "iopub.status.idle": "2023-03-25T07:10:28.129522Z",
     "shell.execute_reply": "2023-03-25T07:10:28.128471Z"
    },
    "papermill": {
     "duration": 0.978588,
     "end_time": "2023-03-25T07:10:28.132448",
     "exception": false,
     "start_time": "2023-03-25T07:10:27.153860",
     "status": "completed"
    },
    "tags": []
   },
   "outputs": [
    {
     "data": {
      "application/javascript": [
       "parent.postMessage({\"jupyterEvent\": \"custom.exercise_interaction\", \"data\": {\"outcomeType\": 1, \"valueTowardsCompletion\": 0.5, \"interactionType\": 1, \"questionType\": 2, \"questionId\": \"1.1_Model1A\", \"learnToolsVersion\": \"0.3.4\", \"failureMessage\": \"\", \"exceptionClass\": \"\", \"trace\": \"\"}}, \"*\")"
      ],
      "text/plain": [
       "<IPython.core.display.Javascript object>"
      ]
     },
     "metadata": {},
     "output_type": "display_data"
    },
    {
     "data": {
      "text/markdown": [
       "<span style=\"color:#33cc33\">Correct</span>"
      ],
      "text/plain": [
       "Correct"
      ]
     },
     "metadata": {},
     "output_type": "display_data"
    }
   ],
   "source": [
    "from xgboost import XGBRegressor as xgbr\n",
    "\n",
    "# Define the model\n",
    "my_model_1 = xgbr(random_state=0)\n",
    "\n",
    "# Fit the model\n",
    "my_model_1.fit(X_train,y_train)# Your code here\n",
    "\n",
    "# Check your answer\n",
    "step_1.a.check()"
   ]
  },
  {
   "cell_type": "code",
   "execution_count": 4,
   "id": "d09df837",
   "metadata": {
    "execution": {
     "iopub.execute_input": "2023-03-25T07:10:28.149642Z",
     "iopub.status.busy": "2023-03-25T07:10:28.149187Z",
     "iopub.status.idle": "2023-03-25T07:10:28.154349Z",
     "shell.execute_reply": "2023-03-25T07:10:28.152946Z"
    },
    "papermill": {
     "duration": 0.016408,
     "end_time": "2023-03-25T07:10:28.156799",
     "exception": false,
     "start_time": "2023-03-25T07:10:28.140391",
     "status": "completed"
    },
    "tags": []
   },
   "outputs": [],
   "source": [
    "# Lines below will give you a hint or solution code\n",
    "#step_1.a.hint()\n",
    "#step_1.a.solution()"
   ]
  },
  {
   "cell_type": "markdown",
   "id": "af0e0abf",
   "metadata": {
    "papermill": {
     "duration": 0.007071,
     "end_time": "2023-03-25T07:10:28.171443",
     "exception": false,
     "start_time": "2023-03-25T07:10:28.164372",
     "status": "completed"
    },
    "tags": []
   },
   "source": [
    "### Part B\n",
    "\n",
    "Set `predictions_1` to the model's predictions for the validation data.  Recall that the validation features are stored in `X_valid`."
   ]
  },
  {
   "cell_type": "code",
   "execution_count": 5,
   "id": "1221b392",
   "metadata": {
    "execution": {
     "iopub.execute_input": "2023-03-25T07:10:28.188821Z",
     "iopub.status.busy": "2023-03-25T07:10:28.187926Z",
     "iopub.status.idle": "2023-03-25T07:10:28.211208Z",
     "shell.execute_reply": "2023-03-25T07:10:28.210005Z"
    },
    "papermill": {
     "duration": 0.035775,
     "end_time": "2023-03-25T07:10:28.214613",
     "exception": false,
     "start_time": "2023-03-25T07:10:28.178838",
     "status": "completed"
    },
    "tags": []
   },
   "outputs": [
    {
     "data": {
      "application/javascript": [
       "parent.postMessage({\"jupyterEvent\": \"custom.exercise_interaction\", \"data\": {\"outcomeType\": 1, \"valueTowardsCompletion\": 0.5, \"interactionType\": 1, \"questionType\": 2, \"questionId\": \"1.2_Model1B\", \"learnToolsVersion\": \"0.3.4\", \"failureMessage\": \"\", \"exceptionClass\": \"\", \"trace\": \"\"}}, \"*\")"
      ],
      "text/plain": [
       "<IPython.core.display.Javascript object>"
      ]
     },
     "metadata": {},
     "output_type": "display_data"
    },
    {
     "data": {
      "text/markdown": [
       "<span style=\"color:#33cc33\">Correct</span>"
      ],
      "text/plain": [
       "Correct"
      ]
     },
     "metadata": {},
     "output_type": "display_data"
    }
   ],
   "source": [
    "from sklearn.metrics import mean_absolute_error\n",
    "\n",
    "# Get predictions\n",
    "predictions_1 = my_model_1.predict(X_valid) # Your code here\n",
    "\n",
    "# Check your answer\n",
    "step_1.b.check()"
   ]
  },
  {
   "cell_type": "code",
   "execution_count": 6,
   "id": "b966d853",
   "metadata": {
    "execution": {
     "iopub.execute_input": "2023-03-25T07:10:28.233983Z",
     "iopub.status.busy": "2023-03-25T07:10:28.232800Z",
     "iopub.status.idle": "2023-03-25T07:10:28.237299Z",
     "shell.execute_reply": "2023-03-25T07:10:28.236459Z"
    },
    "papermill": {
     "duration": 0.015452,
     "end_time": "2023-03-25T07:10:28.239537",
     "exception": false,
     "start_time": "2023-03-25T07:10:28.224085",
     "status": "completed"
    },
    "tags": []
   },
   "outputs": [],
   "source": [
    "# Lines below will give you a hint or solution code\n",
    "#step_1.b.hint()\n",
    "#step_1.b.solution()"
   ]
  },
  {
   "cell_type": "markdown",
   "id": "39c3324f",
   "metadata": {
    "papermill": {
     "duration": 0.007824,
     "end_time": "2023-03-25T07:10:28.255209",
     "exception": false,
     "start_time": "2023-03-25T07:10:28.247385",
     "status": "completed"
    },
    "tags": []
   },
   "source": [
    "### Part C\n",
    "\n",
    "Finally, use the `mean_absolute_error()` function to calculate the mean absolute error (MAE) corresponding to the predictions for the validation set.  Recall that the labels for the validation data are stored in `y_valid`."
   ]
  },
  {
   "cell_type": "code",
   "execution_count": 7,
   "id": "08203dfb",
   "metadata": {
    "execution": {
     "iopub.execute_input": "2023-03-25T07:10:28.273428Z",
     "iopub.status.busy": "2023-03-25T07:10:28.272365Z",
     "iopub.status.idle": "2023-03-25T07:10:28.286364Z",
     "shell.execute_reply": "2023-03-25T07:10:28.284739Z"
    },
    "papermill": {
     "duration": 0.02557,
     "end_time": "2023-03-25T07:10:28.288875",
     "exception": false,
     "start_time": "2023-03-25T07:10:28.263305",
     "status": "completed"
    },
    "tags": []
   },
   "outputs": [
    {
     "name": "stdout",
     "output_type": "stream",
     "text": [
      "Mean Absolute Error: 17662.736729452055\n"
     ]
    },
    {
     "data": {
      "application/javascript": [
       "parent.postMessage({\"jupyterEvent\": \"custom.exercise_interaction\", \"data\": {\"outcomeType\": 1, \"valueTowardsCompletion\": 0.5, \"interactionType\": 1, \"questionType\": 2, \"questionId\": \"1.3_Model1C\", \"learnToolsVersion\": \"0.3.4\", \"failureMessage\": \"\", \"exceptionClass\": \"\", \"trace\": \"\"}}, \"*\")"
      ],
      "text/plain": [
       "<IPython.core.display.Javascript object>"
      ]
     },
     "metadata": {},
     "output_type": "display_data"
    },
    {
     "data": {
      "text/markdown": [
       "<span style=\"color:#33cc33\">Correct</span>"
      ],
      "text/plain": [
       "Correct"
      ]
     },
     "metadata": {},
     "output_type": "display_data"
    }
   ],
   "source": [
    "# Calculate MAE\n",
    "mae_1 = mean_absolute_error (y_valid, predictions_1) # Your code here\n",
    "\n",
    "# Uncomment to print MAE\n",
    "print(\"Mean Absolute Error:\" , mae_1)\n",
    "\n",
    "# Check your answer\n",
    "step_1.c.check()"
   ]
  },
  {
   "cell_type": "code",
   "execution_count": 8,
   "id": "4ec78412",
   "metadata": {
    "execution": {
     "iopub.execute_input": "2023-03-25T07:10:28.307235Z",
     "iopub.status.busy": "2023-03-25T07:10:28.306448Z",
     "iopub.status.idle": "2023-03-25T07:10:28.310858Z",
     "shell.execute_reply": "2023-03-25T07:10:28.309668Z"
    },
    "papermill": {
     "duration": 0.016451,
     "end_time": "2023-03-25T07:10:28.313393",
     "exception": false,
     "start_time": "2023-03-25T07:10:28.296942",
     "status": "completed"
    },
    "tags": []
   },
   "outputs": [],
   "source": [
    "# Lines below will give you a hint or solution code\n",
    "#step_1.c.hint()\n",
    "#step_1.c.solution()"
   ]
  },
  {
   "cell_type": "markdown",
   "id": "2edacbc4",
   "metadata": {
    "papermill": {
     "duration": 0.007408,
     "end_time": "2023-03-25T07:10:28.328815",
     "exception": false,
     "start_time": "2023-03-25T07:10:28.321407",
     "status": "completed"
    },
    "tags": []
   },
   "source": [
    "# Step 2: Improve the model\n",
    "\n",
    "Now that you've trained a default model as baseline, it's time to tinker with the parameters, to see if you can get better performance!\n",
    "- Begin by setting `my_model_2` to an XGBoost model, using the [XGBRegressor](https://xgboost.readthedocs.io/en/latest/python/python_api.html#xgboost.XGBRegressor) class.  Use what you learned in the previous tutorial to figure out how to change the default parameters (like `n_estimators` and `learning_rate`) to get better results.\n",
    "- Then, fit the model to the training data in `X_train` and `y_train`.\n",
    "- Set `predictions_2` to the model's predictions for the validation data.  Recall that the validation features are stored in `X_valid`.\n",
    "- Finally, use the `mean_absolute_error()` function to calculate the mean absolute error (MAE) corresponding to the predictions on the validation set.  Recall that the labels for the validation data are stored in `y_valid`.\n",
    "\n",
    "In order for this step to be marked correct, your model in `my_model_2` must attain lower MAE than the model in `my_model_1`. "
   ]
  },
  {
   "cell_type": "code",
   "execution_count": 9,
   "id": "4e8b48f1",
   "metadata": {
    "execution": {
     "iopub.execute_input": "2023-03-25T07:10:28.346703Z",
     "iopub.status.busy": "2023-03-25T07:10:28.346244Z",
     "iopub.status.idle": "2023-03-25T07:10:28.571080Z",
     "shell.execute_reply": "2023-03-25T07:10:28.570086Z"
    },
    "papermill": {
     "duration": 0.236997,
     "end_time": "2023-03-25T07:10:28.573725",
     "exception": false,
     "start_time": "2023-03-25T07:10:28.336728",
     "status": "completed"
    },
    "tags": []
   },
   "outputs": [],
   "source": [
    "from sklearn.pipeline import Pipeline\n",
    "from sklearn.impute import SimpleImputer\n",
    "from sklearn.model_selection import cross_val_score\n",
    "\n",
    "def get_score(lr,n_estimators):\n",
    "    \"\"\"Return the average MAE over 5 CV folds of xgb model.\n",
    "    \n",
    "    Keyword argument:\n",
    "    n_estimators -- the number of trees in the forest\n",
    "    \"\"\"\n",
    "    # Replace this body with your own code\n",
    "    my_pipeline = Pipeline(steps=[('preprocessor', SimpleImputer()),('model',  xgbr(n_estimators=n_estimators, learning_rate=lr,random_state=0))])\n",
    "    scores = -1 * cross_val_score(my_pipeline, X_train, y_train,\n",
    "                              cv=5,\n",
    "                              scoring='neg_mean_absolute_error')\n",
    "\n",
    "    return scores.mean()"
   ]
  },
  {
   "cell_type": "code",
   "execution_count": 10,
   "id": "959ede0e",
   "metadata": {
    "execution": {
     "iopub.execute_input": "2023-03-25T07:10:28.592368Z",
     "iopub.status.busy": "2023-03-25T07:10:28.591258Z",
     "iopub.status.idle": "2023-03-25T07:10:28.597500Z",
     "shell.execute_reply": "2023-03-25T07:10:28.596352Z"
    },
    "papermill": {
     "duration": 0.018427,
     "end_time": "2023-03-25T07:10:28.600116",
     "exception": false,
     "start_time": "2023-03-25T07:10:28.581689",
     "status": "completed"
    },
    "tags": []
   },
   "outputs": [],
   "source": [
    "# trees=[50,100,200,300,400,500,1000]\n",
    "# lrs=[0.05,0.02,0.01,0.001]\n",
    "# result_tree = dict()\n",
    "# result_lr = list()\n",
    "# for tree in trees: \n",
    "#     for lr in lrs:\n",
    "#         res = get_score(lr,tree)\n",
    "#         result_tree[tree]=res\n",
    "#         result_lr.append(res)\n"
   ]
  },
  {
   "cell_type": "code",
   "execution_count": 11,
   "id": "679a5148",
   "metadata": {
    "execution": {
     "iopub.execute_input": "2023-03-25T07:10:28.618293Z",
     "iopub.status.busy": "2023-03-25T07:10:28.617289Z",
     "iopub.status.idle": "2023-03-25T07:10:28.622623Z",
     "shell.execute_reply": "2023-03-25T07:10:28.621740Z"
    },
    "papermill": {
     "duration": 0.016823,
     "end_time": "2023-03-25T07:10:28.624932",
     "exception": false,
     "start_time": "2023-03-25T07:10:28.608109",
     "status": "completed"
    },
    "tags": []
   },
   "outputs": [],
   "source": [
    "# result_lr"
   ]
  },
  {
   "cell_type": "code",
   "execution_count": 12,
   "id": "e7247c93",
   "metadata": {
    "execution": {
     "iopub.execute_input": "2023-03-25T07:10:28.643205Z",
     "iopub.status.busy": "2023-03-25T07:10:28.641887Z",
     "iopub.status.idle": "2023-03-25T07:10:28.648096Z",
     "shell.execute_reply": "2023-03-25T07:10:28.647120Z"
    },
    "papermill": {
     "duration": 0.018155,
     "end_time": "2023-03-25T07:10:28.650902",
     "exception": false,
     "start_time": "2023-03-25T07:10:28.632747",
     "status": "completed"
    },
    "tags": []
   },
   "outputs": [],
   "source": [
    "# count=0\n",
    "# i=0\n",
    "# res=dict()\n",
    "# while(i<len(result_lr)):\n",
    "#     j=0\n",
    "#     index=-1\n",
    "#     ans=100**100\n",
    "#     while(j<4):\n",
    "#         if(ans>result_lr[i+j]):\n",
    "#             ans=result_lr[i+j]\n",
    "#             index=j\n",
    "#         j+=1;\n",
    "#     i+=4\n",
    "#     res[ans]=index\n",
    "\n",
    "# res"
   ]
  },
  {
   "cell_type": "code",
   "execution_count": 13,
   "id": "bf2bce32",
   "metadata": {
    "execution": {
     "iopub.execute_input": "2023-03-25T07:10:28.669385Z",
     "iopub.status.busy": "2023-03-25T07:10:28.668486Z",
     "iopub.status.idle": "2023-03-25T07:10:28.673729Z",
     "shell.execute_reply": "2023-03-25T07:10:28.672920Z"
    },
    "papermill": {
     "duration": 0.017025,
     "end_time": "2023-03-25T07:10:28.676012",
     "exception": false,
     "start_time": "2023-03-25T07:10:28.658987",
     "status": "completed"
    },
    "tags": []
   },
   "outputs": [],
   "source": [
    "# results_tree_swap = {v: k for k, v in result_tree.items()}\n",
    "\n",
    "\n",
    "# ans=100**100\n",
    "# for res in results_tree_swap.keys():\n",
    "#     ans=min(ans,res)\n",
    "# n_estimators_best = results_tree_swap[ans]\n",
    "\n",
    "\n",
    "# ans=100**100\n",
    "# for res in results_lr_swap.keys():\n",
    "#     ans=min(ans,res)\n",
    "# lr_best = results_lr_swap[ans]"
   ]
  },
  {
   "cell_type": "code",
   "execution_count": 14,
   "id": "cc29cbf4",
   "metadata": {
    "execution": {
     "iopub.execute_input": "2023-03-25T07:10:28.694672Z",
     "iopub.status.busy": "2023-03-25T07:10:28.693799Z",
     "iopub.status.idle": "2023-03-25T07:10:28.699215Z",
     "shell.execute_reply": "2023-03-25T07:10:28.698314Z"
    },
    "papermill": {
     "duration": 0.017875,
     "end_time": "2023-03-25T07:10:28.701693",
     "exception": false,
     "start_time": "2023-03-25T07:10:28.683818",
     "status": "completed"
    },
    "tags": []
   },
   "outputs": [],
   "source": [
    "# n_estimators_best"
   ]
  },
  {
   "cell_type": "code",
   "execution_count": 15,
   "id": "fba63e51",
   "metadata": {
    "execution": {
     "iopub.execute_input": "2023-03-25T07:10:28.720005Z",
     "iopub.status.busy": "2023-03-25T07:10:28.719171Z",
     "iopub.status.idle": "2023-03-25T07:10:44.886241Z",
     "shell.execute_reply": "2023-03-25T07:10:44.884608Z"
    },
    "papermill": {
     "duration": 16.18034,
     "end_time": "2023-03-25T07:10:44.890026",
     "exception": false,
     "start_time": "2023-03-25T07:10:28.709686",
     "status": "completed"
    },
    "tags": []
   },
   "outputs": [
    {
     "name": "stdout",
     "output_type": "stream",
     "text": [
      "Mean Absolute Error: 16609.66795537243\n"
     ]
    },
    {
     "data": {
      "application/javascript": [
       "parent.postMessage({\"jupyterEvent\": \"custom.exercise_interaction\", \"data\": {\"outcomeType\": 1, \"valueTowardsCompletion\": 0.5, \"interactionType\": 1, \"questionType\": 2, \"questionId\": \"2_Model2\", \"learnToolsVersion\": \"0.3.4\", \"failureMessage\": \"\", \"exceptionClass\": \"\", \"trace\": \"\"}}, \"*\")"
      ],
      "text/plain": [
       "<IPython.core.display.Javascript object>"
      ]
     },
     "metadata": {},
     "output_type": "display_data"
    },
    {
     "data": {
      "text/markdown": [
       "<span style=\"color:#33cc33\">Correct</span>"
      ],
      "text/plain": [
       "Correct"
      ]
     },
     "metadata": {},
     "output_type": "display_data"
    }
   ],
   "source": [
    "# Define the model\n",
    "my_model_2 =  xgbr(n_estimators=1550, learning_rate=0.01, random_state=0) # Your code here\n",
    "\n",
    "my_pipeline_2= Pipeline(steps=[('preprocessor', SimpleImputer()),\n",
    "                      ('model', my_model_2)\n",
    "                     ])\n",
    "# Fit the model\n",
    "my_pipeline_2.fit(X_train,y_train) # Your code here\n",
    "\n",
    "# Get predictions\n",
    "predictions_2 = my_model_2.predict(X_valid) # Your code here\n",
    "\n",
    "# Calculate MAE\n",
    "mae_2 = mean_absolute_error (y_valid, predictions_2) # Your code here\n",
    "\n",
    "# Uncomment to print MAE\n",
    "print(\"Mean Absolute Error:\" , mae_2)\n",
    "\n",
    "# Check your answer\n",
    "step_2.check()"
   ]
  },
  {
   "cell_type": "code",
   "execution_count": 16,
   "id": "37a6b535",
   "metadata": {
    "execution": {
     "iopub.execute_input": "2023-03-25T07:10:44.909555Z",
     "iopub.status.busy": "2023-03-25T07:10:44.909176Z",
     "iopub.status.idle": "2023-03-25T07:10:44.913710Z",
     "shell.execute_reply": "2023-03-25T07:10:44.912426Z"
    },
    "papermill": {
     "duration": 0.01636,
     "end_time": "2023-03-25T07:10:44.916152",
     "exception": false,
     "start_time": "2023-03-25T07:10:44.899792",
     "status": "completed"
    },
    "tags": []
   },
   "outputs": [],
   "source": [
    "# Lines below will give you a hint or solution code\n",
    "#step_2.hint()\n",
    "# step_2.solution()"
   ]
  },
  {
   "cell_type": "markdown",
   "id": "953eef2f",
   "metadata": {
    "papermill": {
     "duration": 0.007824,
     "end_time": "2023-03-25T07:10:44.932108",
     "exception": false,
     "start_time": "2023-03-25T07:10:44.924284",
     "status": "completed"
    },
    "tags": []
   },
   "source": [
    "# Step 3: Break the model\n",
    "\n",
    "In this step, you will create a model that performs worse than the original model in Step 1.  This will help you to develop your intuition for how to set parameters.  You might even find that you accidentally get better performance, which is ultimately a nice problem to have and a valuable learning experience!\n",
    "- Begin by setting `my_model_3` to an XGBoost model, using the [XGBRegressor](https://xgboost.readthedocs.io/en/latest/python/python_api.html#xgboost.XGBRegressor) class.  Use what you learned in the previous tutorial to figure out how to change the default parameters (like `n_estimators` and `learning_rate`) to design a model to get high MAE.\n",
    "- Then, fit the model to the training data in `X_train` and `y_train`.\n",
    "- Set `predictions_3` to the model's predictions for the validation data.  Recall that the validation features are stored in `X_valid`.\n",
    "- Finally, use the `mean_absolute_error()` function to calculate the mean absolute error (MAE) corresponding to the predictions on the validation set.  Recall that the labels for the validation data are stored in `y_valid`.\n",
    "\n",
    "In order for this step to be marked correct, your model in `my_model_3` must attain higher MAE than the model in `my_model_1`. "
   ]
  },
  {
   "cell_type": "code",
   "execution_count": 17,
   "id": "29048986",
   "metadata": {
    "execution": {
     "iopub.execute_input": "2023-03-25T07:10:44.950346Z",
     "iopub.status.busy": "2023-03-25T07:10:44.949676Z",
     "iopub.status.idle": "2023-03-25T07:10:54.816286Z",
     "shell.execute_reply": "2023-03-25T07:10:54.815218Z"
    },
    "papermill": {
     "duration": 9.8794,
     "end_time": "2023-03-25T07:10:54.819470",
     "exception": false,
     "start_time": "2023-03-25T07:10:44.940070",
     "status": "completed"
    },
    "tags": []
   },
   "outputs": [
    {
     "name": "stdout",
     "output_type": "stream",
     "text": [
      "Mean Absolute Error: 164415.0123592011\n"
     ]
    },
    {
     "data": {
      "application/javascript": [
       "parent.postMessage({\"jupyterEvent\": \"custom.exercise_interaction\", \"data\": {\"outcomeType\": 1, \"valueTowardsCompletion\": 0.5, \"interactionType\": 1, \"questionType\": 2, \"questionId\": \"3_Model3\", \"learnToolsVersion\": \"0.3.4\", \"failureMessage\": \"\", \"exceptionClass\": \"\", \"trace\": \"\"}}, \"*\")"
      ],
      "text/plain": [
       "<IPython.core.display.Javascript object>"
      ]
     },
     "metadata": {},
     "output_type": "display_data"
    },
    {
     "data": {
      "text/markdown": [
       "<span style=\"color:#33cc33\">Correct</span>"
      ],
      "text/plain": [
       "Correct"
      ]
     },
     "metadata": {},
     "output_type": "display_data"
    }
   ],
   "source": [
    "# Define the model\n",
    "my_model_3 = xgbr(n_estimators=1000, learning_rate=0.0001, random_state=0)\n",
    "\n",
    "my_pipeline_3= Pipeline(steps=[('preprocessor', SimpleImputer()),('model',  my_model_3)])\n",
    "# Fit the model\n",
    "my_pipeline_3.fit(X_train,y_train) # Your code here\n",
    "\n",
    "# Get predictions\n",
    "predictions_3 = my_model_3.predict(X_valid) # Your code here\n",
    "\n",
    "# Calculate MAE\n",
    "mae_3 = mean_absolute_error (y_valid, predictions_3) # Your code here\n",
    "\n",
    "# Uncomment to print MAE\n",
    "print(\"Mean Absolute Error:\" , mae_3)\n",
    "\n",
    "# Check your answer\n",
    "step_3.check()"
   ]
  },
  {
   "cell_type": "code",
   "execution_count": 18,
   "id": "1850495b",
   "metadata": {
    "execution": {
     "iopub.execute_input": "2023-03-25T07:10:54.838715Z",
     "iopub.status.busy": "2023-03-25T07:10:54.837900Z",
     "iopub.status.idle": "2023-03-25T07:10:54.891373Z",
     "shell.execute_reply": "2023-03-25T07:10:54.890362Z"
    },
    "papermill": {
     "duration": 0.066501,
     "end_time": "2023-03-25T07:10:54.894581",
     "exception": false,
     "start_time": "2023-03-25T07:10:54.828080",
     "status": "completed"
    },
    "tags": []
   },
   "outputs": [],
   "source": [
    "preds_test = my_model_2.predict(X_test) # Your code here\n"
   ]
  },
  {
   "cell_type": "code",
   "execution_count": 19,
   "id": "5caa83bd",
   "metadata": {
    "execution": {
     "iopub.execute_input": "2023-03-25T07:10:54.916803Z",
     "iopub.status.busy": "2023-03-25T07:10:54.915335Z",
     "iopub.status.idle": "2023-03-25T07:10:54.931319Z",
     "shell.execute_reply": "2023-03-25T07:10:54.930378Z"
    },
    "papermill": {
     "duration": 0.028838,
     "end_time": "2023-03-25T07:10:54.934019",
     "exception": false,
     "start_time": "2023-03-25T07:10:54.905181",
     "status": "completed"
    },
    "tags": []
   },
   "outputs": [],
   "source": [
    "# Save test predictions to file\n",
    "output = pd.DataFrame({'Id': X_test.index,\n",
    "                       'SalePrice': preds_test})\n",
    "output.to_csv('submission.csv', index=False)"
   ]
  },
  {
   "cell_type": "code",
   "execution_count": 20,
   "id": "3a5a02e4",
   "metadata": {
    "execution": {
     "iopub.execute_input": "2023-03-25T07:10:54.953891Z",
     "iopub.status.busy": "2023-03-25T07:10:54.953073Z",
     "iopub.status.idle": "2023-03-25T07:10:54.957974Z",
     "shell.execute_reply": "2023-03-25T07:10:54.956778Z"
    },
    "papermill": {
     "duration": 0.018324,
     "end_time": "2023-03-25T07:10:54.960788",
     "exception": false,
     "start_time": "2023-03-25T07:10:54.942464",
     "status": "completed"
    },
    "tags": []
   },
   "outputs": [],
   "source": [
    "# Lines below will give you a hint or solution code\n",
    "#step_3.hint()\n",
    "#step_3.solution()"
   ]
  },
  {
   "cell_type": "markdown",
   "id": "ebdf4110",
   "metadata": {
    "papermill": {
     "duration": 0.008707,
     "end_time": "2023-03-25T07:10:54.978700",
     "exception": false,
     "start_time": "2023-03-25T07:10:54.969993",
     "status": "completed"
    },
    "tags": []
   },
   "source": [
    "# Keep going\n",
    "\n",
    "Continue to learn about **[data leakage](https://www.kaggle.com/alexisbcook/data-leakage)**.  This is an important issue for a data scientist to understand, and it has the potential to ruin your models in subtle and dangerous ways!"
   ]
  },
  {
   "cell_type": "markdown",
   "id": "a18842a0",
   "metadata": {
    "papermill": {
     "duration": 0.008454,
     "end_time": "2023-03-25T07:10:54.996082",
     "exception": false,
     "start_time": "2023-03-25T07:10:54.987628",
     "status": "completed"
    },
    "tags": []
   },
   "source": [
    "---\n",
    "\n",
    "\n",
    "\n",
    "\n",
    "*Have questions or comments? Visit the [course discussion forum](https://www.kaggle.com/learn/intermediate-machine-learning/discussion) to chat with other learners.*"
   ]
  }
 ],
 "metadata": {
  "kernelspec": {
   "display_name": "Python 3",
   "language": "python",
   "name": "python3"
  },
  "language_info": {
   "codemirror_mode": {
    "name": "ipython",
    "version": 3
   },
   "file_extension": ".py",
   "mimetype": "text/x-python",
   "name": "python",
   "nbconvert_exporter": "python",
   "pygments_lexer": "ipython3",
   "version": "3.7.12"
  },
  "papermill": {
   "default_parameters": {},
   "duration": 41.848986,
   "end_time": "2023-03-25T07:10:55.829983",
   "environment_variables": {},
   "exception": null,
   "input_path": "__notebook__.ipynb",
   "output_path": "__notebook__.ipynb",
   "parameters": {},
   "start_time": "2023-03-25T07:10:13.980997",
   "version": "2.4.0"
  }
 },
 "nbformat": 4,
 "nbformat_minor": 5
}
